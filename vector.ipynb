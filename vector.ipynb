{
 "cells": [
  {
   "cell_type": "markdown",
   "id": "89ac07a7",
   "metadata": {},
   "source": [
    "### Векторизация текста"
   ]
  },
  {
   "cell_type": "markdown",
   "id": "b24fd45b",
   "metadata": {},
   "source": [
    "TF-IDF и SVD "
   ]
  },
  {
   "cell_type": "code",
   "execution_count": 1,
   "id": "45f8f853",
   "metadata": {},
   "outputs": [],
   "source": [
    "import numpy as np \n",
    "import pandas as pd\n",
    "\n",
    "\n",
    "from sklearn.decomposition import TruncatedSVD\n",
    "from sklearn.feature_extraction.text import TfidfVectorizer"
   ]
  },
  {
   "cell_type": "code",
   "execution_count": 2,
   "id": "0280f6a1",
   "metadata": {},
   "outputs": [],
   "source": [
    "# импортируем отфильтрованные тренировочную и тестовую выборки с новыми признаками\n",
    "train = pd.read_csv('/Users/anastasiamyskina/Downloads/IT/data_train_novector.csv')\n",
    "test = pd.read_csv('/Users/anastasiamyskina/Downloads/IT/data_test_novector.csv')"
   ]
  },
  {
   "cell_type": "code",
   "execution_count": 3,
   "id": "74361e77",
   "metadata": {},
   "outputs": [],
   "source": [
    "# определим TF-IDF\n",
    "vectorizer = TfidfVectorizer(ngram_range=(1, 2))"
   ]
  },
  {
   "cell_type": "code",
   "execution_count": 4,
   "id": "15d2a8e5",
   "metadata": {},
   "outputs": [],
   "source": [
    "train=train.fillna(\"\") \n",
    "test=test.fillna(\"\")\n",
    "train=train.drop(columns = ['text'],axis = 1)"
   ]
  },
  {
   "cell_type": "code",
   "execution_count": 5,
   "id": "5d494842",
   "metadata": {},
   "outputs": [],
   "source": [
    "train2 = vectorizer.fit_transform(train[\"post_text\"])\n",
    "train3 = vectorizer.fit_transform(train[\"com_text\"])"
   ]
  },
  {
   "cell_type": "code",
   "execution_count": 6,
   "id": "ce78020d",
   "metadata": {},
   "outputs": [],
   "source": [
    "# векторизации текста svd\n",
    "svd = TruncatedSVD(n_components=1)\n",
    "svd_post = svd.fit_transform(train2)\n",
    "svd_com = svd.fit_transform(train3)"
   ]
  },
  {
   "cell_type": "code",
   "execution_count": 7,
   "id": "eef55622",
   "metadata": {},
   "outputs": [],
   "source": [
    "train['post_text_svd'] = svd_post\n",
    "train['com_text_svd'] = svd_com"
   ]
  },
  {
   "cell_type": "code",
   "execution_count": 8,
   "id": "1a756d47",
   "metadata": {},
   "outputs": [],
   "source": [
    "train=train.drop(columns = ['post_text', 'com_text'], axis = 1) "
   ]
  },
  {
   "cell_type": "code",
   "execution_count": 9,
   "id": "0f5014e2",
   "metadata": {},
   "outputs": [
    {
     "data": {
      "text/html": [
       "<div>\n",
       "<style scoped>\n",
       "    .dataframe tbody tr th:only-of-type {\n",
       "        vertical-align: middle;\n",
       "    }\n",
       "\n",
       "    .dataframe tbody tr th {\n",
       "        vertical-align: top;\n",
       "    }\n",
       "\n",
       "    .dataframe thead th {\n",
       "        text-align: right;\n",
       "    }\n",
       "</style>\n",
       "<table border=\"1\" class=\"dataframe\">\n",
       "  <thead>\n",
       "    <tr style=\"text-align: right;\">\n",
       "      <th></th>\n",
       "      <th>score</th>\n",
       "      <th>common_words</th>\n",
       "      <th>len_of_post</th>\n",
       "      <th>len_of_comm</th>\n",
       "      <th>len_of_text</th>\n",
       "      <th>ratio_post</th>\n",
       "      <th>post_text_svd</th>\n",
       "      <th>com_text_svd</th>\n",
       "    </tr>\n",
       "  </thead>\n",
       "  <tbody>\n",
       "    <tr>\n",
       "      <th>0</th>\n",
       "      <td>0.0</td>\n",
       "      <td>6</td>\n",
       "      <td>11</td>\n",
       "      <td>96</td>\n",
       "      <td>107</td>\n",
       "      <td>0.545455</td>\n",
       "      <td>0.017271</td>\n",
       "      <td>0.118448</td>\n",
       "    </tr>\n",
       "    <tr>\n",
       "      <th>1</th>\n",
       "      <td>1.0</td>\n",
       "      <td>3</td>\n",
       "      <td>11</td>\n",
       "      <td>34</td>\n",
       "      <td>45</td>\n",
       "      <td>0.272727</td>\n",
       "      <td>0.017271</td>\n",
       "      <td>0.059355</td>\n",
       "    </tr>\n",
       "    <tr>\n",
       "      <th>2</th>\n",
       "      <td>2.0</td>\n",
       "      <td>2</td>\n",
       "      <td>11</td>\n",
       "      <td>44</td>\n",
       "      <td>55</td>\n",
       "      <td>0.181818</td>\n",
       "      <td>0.017271</td>\n",
       "      <td>0.078515</td>\n",
       "    </tr>\n",
       "    <tr>\n",
       "      <th>3</th>\n",
       "      <td>3.0</td>\n",
       "      <td>1</td>\n",
       "      <td>11</td>\n",
       "      <td>31</td>\n",
       "      <td>42</td>\n",
       "      <td>0.090909</td>\n",
       "      <td>0.017271</td>\n",
       "      <td>0.071116</td>\n",
       "    </tr>\n",
       "    <tr>\n",
       "      <th>4</th>\n",
       "      <td>4.0</td>\n",
       "      <td>5</td>\n",
       "      <td>11</td>\n",
       "      <td>9</td>\n",
       "      <td>20</td>\n",
       "      <td>0.454545</td>\n",
       "      <td>0.017271</td>\n",
       "      <td>0.046326</td>\n",
       "    </tr>\n",
       "  </tbody>\n",
       "</table>\n",
       "</div>"
      ],
      "text/plain": [
       "   score  common_words  len_of_post  len_of_comm  len_of_text  ratio_post  \\\n",
       "0    0.0             6           11           96          107    0.545455   \n",
       "1    1.0             3           11           34           45    0.272727   \n",
       "2    2.0             2           11           44           55    0.181818   \n",
       "3    3.0             1           11           31           42    0.090909   \n",
       "4    4.0             5           11            9           20    0.454545   \n",
       "\n",
       "   post_text_svd  com_text_svd  \n",
       "0       0.017271      0.118448  \n",
       "1       0.017271      0.059355  \n",
       "2       0.017271      0.078515  \n",
       "3       0.017271      0.071116  \n",
       "4       0.017271      0.046326  "
      ]
     },
     "execution_count": 9,
     "metadata": {},
     "output_type": "execute_result"
    }
   ],
   "source": [
    "train.head()"
   ]
  },
  {
   "cell_type": "code",
   "execution_count": 10,
   "id": "291fc508",
   "metadata": {},
   "outputs": [],
   "source": [
    "#train.to_csv(r'/Users/anastasiamyskina/Downloads/IT/train_vec.csv', index= False )"
   ]
  },
  {
   "cell_type": "markdown",
   "id": "2e561e63",
   "metadata": {},
   "source": [
    "Проделаем тоже самое с тестовой выборкой"
   ]
  },
  {
   "cell_type": "code",
   "execution_count": 11,
   "id": "7d859b93",
   "metadata": {},
   "outputs": [],
   "source": [
    "test=test.drop(columns = ['text'],axis = 1)"
   ]
  },
  {
   "cell_type": "code",
   "execution_count": 12,
   "id": "7a6cbde9",
   "metadata": {},
   "outputs": [],
   "source": [
    "test2 = vectorizer.fit_transform(test[\"post_text\"])\n",
    "test3 = vectorizer.fit_transform(test[\"com_text\"])"
   ]
  },
  {
   "cell_type": "code",
   "execution_count": 13,
   "id": "7e93834f",
   "metadata": {},
   "outputs": [],
   "source": [
    "svd = TruncatedSVD(n_components=1)\n",
    "svd_post = svd.fit_transform(test2)\n",
    "svd_com = svd.fit_transform(test3)"
   ]
  },
  {
   "cell_type": "code",
   "execution_count": 14,
   "id": "58dac756",
   "metadata": {},
   "outputs": [],
   "source": [
    "test['post_text_svd'] = svd_post\n",
    "test['com_text_svd'] = svd_com"
   ]
  },
  {
   "cell_type": "code",
   "execution_count": 15,
   "id": "3ebc92ab",
   "metadata": {},
   "outputs": [],
   "source": [
    "test=test.drop(columns = ['post_text', 'com_text'], axis = 1) "
   ]
  },
  {
   "cell_type": "code",
   "execution_count": 16,
   "id": "8bc99afa",
   "metadata": {},
   "outputs": [
    {
     "data": {
      "text/html": [
       "<div>\n",
       "<style scoped>\n",
       "    .dataframe tbody tr th:only-of-type {\n",
       "        vertical-align: middle;\n",
       "    }\n",
       "\n",
       "    .dataframe tbody tr th {\n",
       "        vertical-align: top;\n",
       "    }\n",
       "\n",
       "    .dataframe thead th {\n",
       "        text-align: right;\n",
       "    }\n",
       "</style>\n",
       "<table border=\"1\" class=\"dataframe\">\n",
       "  <thead>\n",
       "    <tr style=\"text-align: right;\">\n",
       "      <th></th>\n",
       "      <th>score</th>\n",
       "      <th>common_words</th>\n",
       "      <th>len_of_post</th>\n",
       "      <th>len_of_comm</th>\n",
       "      <th>len_of_text</th>\n",
       "      <th>ratio_post</th>\n",
       "      <th>post_text_svd</th>\n",
       "      <th>com_text_svd</th>\n",
       "    </tr>\n",
       "  </thead>\n",
       "  <tbody>\n",
       "    <tr>\n",
       "      <th>0</th>\n",
       "      <td></td>\n",
       "      <td>1</td>\n",
       "      <td>8</td>\n",
       "      <td>16</td>\n",
       "      <td>24</td>\n",
       "      <td>0.125</td>\n",
       "      <td>0.003099</td>\n",
       "      <td>0.034419</td>\n",
       "    </tr>\n",
       "    <tr>\n",
       "      <th>1</th>\n",
       "      <td></td>\n",
       "      <td>0</td>\n",
       "      <td>8</td>\n",
       "      <td>10</td>\n",
       "      <td>18</td>\n",
       "      <td>0.000</td>\n",
       "      <td>0.003099</td>\n",
       "      <td>0.018142</td>\n",
       "    </tr>\n",
       "    <tr>\n",
       "      <th>2</th>\n",
       "      <td></td>\n",
       "      <td>1</td>\n",
       "      <td>8</td>\n",
       "      <td>20</td>\n",
       "      <td>28</td>\n",
       "      <td>0.125</td>\n",
       "      <td>0.003099</td>\n",
       "      <td>0.029268</td>\n",
       "    </tr>\n",
       "    <tr>\n",
       "      <th>3</th>\n",
       "      <td></td>\n",
       "      <td>2</td>\n",
       "      <td>8</td>\n",
       "      <td>25</td>\n",
       "      <td>33</td>\n",
       "      <td>0.250</td>\n",
       "      <td>0.003099</td>\n",
       "      <td>0.054525</td>\n",
       "    </tr>\n",
       "    <tr>\n",
       "      <th>4</th>\n",
       "      <td></td>\n",
       "      <td>0</td>\n",
       "      <td>8</td>\n",
       "      <td>4</td>\n",
       "      <td>12</td>\n",
       "      <td>0.000</td>\n",
       "      <td>0.003099</td>\n",
       "      <td>0.013465</td>\n",
       "    </tr>\n",
       "  </tbody>\n",
       "</table>\n",
       "</div>"
      ],
      "text/plain": [
       "  score  common_words  len_of_post  len_of_comm  len_of_text  ratio_post  \\\n",
       "0                   1            8           16           24       0.125   \n",
       "1                   0            8           10           18       0.000   \n",
       "2                   1            8           20           28       0.125   \n",
       "3                   2            8           25           33       0.250   \n",
       "4                   0            8            4           12       0.000   \n",
       "\n",
       "   post_text_svd  com_text_svd  \n",
       "0       0.003099      0.034419  \n",
       "1       0.003099      0.018142  \n",
       "2       0.003099      0.029268  \n",
       "3       0.003099      0.054525  \n",
       "4       0.003099      0.013465  "
      ]
     },
     "execution_count": 16,
     "metadata": {},
     "output_type": "execute_result"
    }
   ],
   "source": [
    "test.head()"
   ]
  },
  {
   "cell_type": "code",
   "execution_count": 17,
   "id": "23a6c6be",
   "metadata": {},
   "outputs": [],
   "source": [
    "#test.to_csv(r'/Users/anastasiamyskina/Downloads/IT/test_vec.csv', index= False )"
   ]
  },
  {
   "cell_type": "markdown",
   "id": "e5910561",
   "metadata": {},
   "source": [
    "Теперь можно переходить к обучению модели"
   ]
  },
  {
   "cell_type": "code",
   "execution_count": null,
   "id": "eefb31bd",
   "metadata": {},
   "outputs": [],
   "source": []
  }
 ],
 "metadata": {
  "kernelspec": {
   "display_name": "Python 3 (ipykernel)",
   "language": "python",
   "name": "python3"
  },
  "language_info": {
   "codemirror_mode": {
    "name": "ipython",
    "version": 3
   },
   "file_extension": ".py",
   "mimetype": "text/x-python",
   "name": "python",
   "nbconvert_exporter": "python",
   "pygments_lexer": "ipython3",
   "version": "3.9.12"
  }
 },
 "nbformat": 4,
 "nbformat_minor": 5
}
