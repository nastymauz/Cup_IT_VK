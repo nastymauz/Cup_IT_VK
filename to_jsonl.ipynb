{
 "cells": [
  {
   "cell_type": "markdown",
   "id": "5f7c7062",
   "metadata": {},
   "source": [
    "Сохраним полученные значения `score` в jsonl файл"
   ]
  },
  {
   "cell_type": "code",
   "execution_count": 1,
   "id": "e93b72d9",
   "metadata": {},
   "outputs": [],
   "source": [
    "import csv \n",
    "import json \n",
    "import pandas as pd"
   ]
  },
  {
   "cell_type": "code",
   "execution_count": 2,
   "id": "3ae0c7ad",
   "metadata": {},
   "outputs": [],
   "source": [
    "with open('/Users/anastasiamyskina/Downloads/IT/test_score.csv', newline='') as csvfile:\n",
    "    reader = csv.reader(csvfile)\n",
    "    rows = list(reader)\n"
   ]
  },
  {
   "cell_type": "code",
   "execution_count": 3,
   "id": "9c3037a4",
   "metadata": {},
   "outputs": [],
   "source": [
    "jsonl = ''\n",
    "for row in rows:\n",
    "    data = {'post_text': row[0], 'com_text': row[1], 'score': row[2]}\n",
    "    jsonl += json.dumps(data) + '\\n'\n"
   ]
  },
  {
   "cell_type": "code",
   "execution_count": 4,
   "id": "f95bcd3b",
   "metadata": {},
   "outputs": [],
   "source": [
    "with open('/Users/anastasiamyskina/Downloads/IT/test_score.jsonl', 'w') as outfile:\n",
    "    outfile.write(jsonl)\n"
   ]
  },
  {
   "cell_type": "code",
   "execution_count": 5,
   "id": "bd7d1418",
   "metadata": {},
   "outputs": [
    {
     "data": {
      "text/html": [
       "<div>\n",
       "<style scoped>\n",
       "    .dataframe tbody tr th:only-of-type {\n",
       "        vertical-align: middle;\n",
       "    }\n",
       "\n",
       "    .dataframe tbody tr th {\n",
       "        vertical-align: top;\n",
       "    }\n",
       "\n",
       "    .dataframe thead th {\n",
       "        text-align: right;\n",
       "    }\n",
       "</style>\n",
       "<table border=\"1\" class=\"dataframe\">\n",
       "  <thead>\n",
       "    <tr style=\"text-align: right;\">\n",
       "      <th></th>\n",
       "      <th>post_text</th>\n",
       "      <th>com_text</th>\n",
       "      <th>score</th>\n",
       "    </tr>\n",
       "  </thead>\n",
       "  <tbody>\n",
       "    <tr>\n",
       "      <th>0</th>\n",
       "      <td>post_text</td>\n",
       "      <td>com_text</td>\n",
       "      <td>score</td>\n",
       "    </tr>\n",
       "    <tr>\n",
       "      <th>1</th>\n",
       "      <td>iOS 8.0.1 released, broken on iPhone 6 models,...</td>\n",
       "      <td>I&amp;#x27;m still waiting for them to stabilize w...</td>\n",
       "      <td>3.0</td>\n",
       "    </tr>\n",
       "    <tr>\n",
       "      <th>2</th>\n",
       "      <td>iOS 8.0.1 released, broken on iPhone 6 models,...</td>\n",
       "      <td>For those who upgraded, no need to do a restor...</td>\n",
       "      <td>4.0</td>\n",
       "    </tr>\n",
       "    <tr>\n",
       "      <th>3</th>\n",
       "      <td>iOS 8.0.1 released, broken on iPhone 6 models,...</td>\n",
       "      <td>Upgraded shortly after it was released and suf...</td>\n",
       "      <td>2.0</td>\n",
       "    </tr>\n",
       "    <tr>\n",
       "      <th>4</th>\n",
       "      <td>iOS 8.0.1 released, broken on iPhone 6 models,...</td>\n",
       "      <td>I think they were under a lot of pressure on t...</td>\n",
       "      <td>2.0</td>\n",
       "    </tr>\n",
       "    <tr>\n",
       "      <th>...</th>\n",
       "      <td>...</td>\n",
       "      <td>...</td>\n",
       "      <td>...</td>\n",
       "    </tr>\n",
       "    <tr>\n",
       "      <th>70016</th>\n",
       "      <td>Why does Gmail hate my domain?</td>\n",
       "      <td>I send a LOT of emails each month (email newsl...</td>\n",
       "      <td>0.0</td>\n",
       "    </tr>\n",
       "    <tr>\n",
       "      <th>70017</th>\n",
       "      <td>Why does Gmail hate my domain?</td>\n",
       "      <td>I hit a similar problems when sending automate...</td>\n",
       "      <td>3.0</td>\n",
       "    </tr>\n",
       "    <tr>\n",
       "      <th>70018</th>\n",
       "      <td>Why does Gmail hate my domain?</td>\n",
       "      <td>That&amp;#x27;s all a bit presumptive and inflamma...</td>\n",
       "      <td>3.0</td>\n",
       "    </tr>\n",
       "    <tr>\n",
       "      <th>70019</th>\n",
       "      <td>Why does Gmail hate my domain?</td>\n",
       "      <td>If the domain is bitbin.de and the mail server...</td>\n",
       "      <td>1.0</td>\n",
       "    </tr>\n",
       "    <tr>\n",
       "      <th>70020</th>\n",
       "      <td>Why does Gmail hate my domain?</td>\n",
       "      <td>I&amp;#x27;m very curious about that as well as I ...</td>\n",
       "      <td>3.0</td>\n",
       "    </tr>\n",
       "  </tbody>\n",
       "</table>\n",
       "<p>70021 rows × 3 columns</p>\n",
       "</div>"
      ],
      "text/plain": [
       "                                               post_text  \\\n",
       "0                                              post_text   \n",
       "1      iOS 8.0.1 released, broken on iPhone 6 models,...   \n",
       "2      iOS 8.0.1 released, broken on iPhone 6 models,...   \n",
       "3      iOS 8.0.1 released, broken on iPhone 6 models,...   \n",
       "4      iOS 8.0.1 released, broken on iPhone 6 models,...   \n",
       "...                                                  ...   \n",
       "70016                     Why does Gmail hate my domain?   \n",
       "70017                     Why does Gmail hate my domain?   \n",
       "70018                     Why does Gmail hate my domain?   \n",
       "70019                     Why does Gmail hate my domain?   \n",
       "70020                     Why does Gmail hate my domain?   \n",
       "\n",
       "                                                com_text  score  \n",
       "0                                               com_text  score  \n",
       "1      I&#x27;m still waiting for them to stabilize w...    3.0  \n",
       "2      For those who upgraded, no need to do a restor...    4.0  \n",
       "3      Upgraded shortly after it was released and suf...    2.0  \n",
       "4      I think they were under a lot of pressure on t...    2.0  \n",
       "...                                                  ...    ...  \n",
       "70016  I send a LOT of emails each month (email newsl...    0.0  \n",
       "70017  I hit a similar problems when sending automate...    3.0  \n",
       "70018  That&#x27;s all a bit presumptive and inflamma...    3.0  \n",
       "70019  If the domain is bitbin.de and the mail server...    1.0  \n",
       "70020  I&#x27;m very curious about that as well as I ...    3.0  \n",
       "\n",
       "[70021 rows x 3 columns]"
      ]
     },
     "execution_count": 5,
     "metadata": {},
     "output_type": "execute_result"
    }
   ],
   "source": [
    "pd.read_json('/Users/anastasiamyskina/Downloads/IT/test_score.jsonl', lines=True)"
   ]
  },
  {
   "cell_type": "code",
   "execution_count": null,
   "id": "da764208",
   "metadata": {},
   "outputs": [],
   "source": []
  }
 ],
 "metadata": {
  "kernelspec": {
   "display_name": "Python 3 (ipykernel)",
   "language": "python",
   "name": "python3"
  },
  "language_info": {
   "codemirror_mode": {
    "name": "ipython",
    "version": 3
   },
   "file_extension": ".py",
   "mimetype": "text/x-python",
   "name": "python",
   "nbconvert_exporter": "python",
   "pygments_lexer": "ipython3",
   "version": "3.9.12"
  }
 },
 "nbformat": 4,
 "nbformat_minor": 5
}
