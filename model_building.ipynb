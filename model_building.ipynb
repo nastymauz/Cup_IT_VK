{
 "cells": [
  {
   "cell_type": "markdown",
   "id": "cbf532c1",
   "metadata": {},
   "source": [
    "## Обучение модели"
   ]
  },
  {
   "cell_type": "code",
   "execution_count": 1,
   "id": "d74d0d00",
   "metadata": {},
   "outputs": [],
   "source": [
    "import pandas as pd\n",
    "import numpy as np\n",
    "from sklearn.model_selection import train_test_split"
   ]
  },
  {
   "cell_type": "code",
   "execution_count": 2,
   "id": "f180fb92",
   "metadata": {},
   "outputs": [],
   "source": [
    "# импортируем данные для обучения \n",
    "train = pd.read_csv('/Users/anastasiamyskina/Downloads/IT/train_vec.csv')\n",
    "test = pd.read_csv('/Users/anastasiamyskina/Downloads/IT/test_vec.csv')"
   ]
  },
  {
   "cell_type": "code",
   "execution_count": 3,
   "id": "1c367999",
   "metadata": {},
   "outputs": [],
   "source": [
    "train_copy = train.copy()\n",
    "train_copy=train_copy.drop(columns = ['score'], axis = 1) "
   ]
  },
  {
   "cell_type": "code",
   "execution_count": 4,
   "id": "9fd7dfb8",
   "metadata": {},
   "outputs": [],
   "source": [
    "# разделим на train/test\n",
    "X_train, X_test, y_train, y_test = train_test_split(train_copy, train['score'], test_size=.15, random_state=42)"
   ]
  },
  {
   "cell_type": "code",
   "execution_count": 5,
   "id": "01108537",
   "metadata": {},
   "outputs": [],
   "source": [
    "from sklearn.metrics import accuracy_score, f1_score, ndcg_score, confusion_matrix, classification_report\n",
    "from sklearn.model_selection import train_test_split\n",
    "from sklearn.neighbors import KNeighborsClassifier\n",
    "from sklearn.tree import DecisionTreeClassifier\n",
    "from sklearn.metrics import f1_score\n",
    "from sklearn.ensemble import RandomForestClassifier\n",
    "from sklearn.ensemble import GradientBoostingClassifier\n",
    "from sklearn.linear_model import LogisticRegression\n",
    "from catboost import CatBoostClassifier\n",
    "from collections import Counter\n",
    "from sklearn.preprocessing import LabelBinarizer\n",
    "from sklearn import preprocessing\n"
   ]
  },
  {
   "cell_type": "markdown",
   "id": "5bf9c957",
   "metadata": {},
   "source": [
    "#### Выбор целевой метрики\n",
    "Будем смотреть на метрику NDCG (Normalized Discounted Cumulative Gain), она хороша тем, что позволяет оценивать качество персонализированных рекомендаций. Она учитывает не только релевантность рекомендованных элементов, но и их порядок в списке рекомендаций."
   ]
  },
  {
   "cell_type": "markdown",
   "id": "7fbd68e3",
   "metadata": {},
   "source": [
    "### Проведение экспериментов"
   ]
  },
  {
   "cell_type": "code",
   "execution_count": 6,
   "id": "48e17dfc",
   "metadata": {},
   "outputs": [],
   "source": [
    "def modeling(model, X_train, y_train, X_test) -> None:\n",
    "    model.fit(X_train, y_train)\n",
    "    y_pred = model.predict(X_test)\n",
    "    report = classification_report(y_test, y_pred)\n",
    "    lb = preprocessing.LabelBinarizer()\n",
    "    y_test_bin = lb.fit_transform(y_test)\n",
    "    y_pred_bin = lb.fit_transform(y_pred)\n",
    "    print(report)\n",
    "    print(\"NDCG метрика:\")\n",
    "    print(ndcg_score(y_test_bin, y_pred_bin))"
   ]
  },
  {
   "cell_type": "markdown",
   "id": "e31fe9e5",
   "metadata": {},
   "source": [
    "#### Логистическая регрессия"
   ]
  },
  {
   "cell_type": "code",
   "execution_count": 7,
   "id": "f1366db2",
   "metadata": {},
   "outputs": [
    {
     "name": "stderr",
     "output_type": "stream",
     "text": [
      "/Users/anastasiamyskina/opt/anaconda3/lib/python3.9/site-packages/sklearn/linear_model/_logistic.py:814: ConvergenceWarning: lbfgs failed to converge (status=1):\n",
      "STOP: TOTAL NO. of ITERATIONS REACHED LIMIT.\n",
      "\n",
      "Increase the number of iterations (max_iter) or scale the data as shown in:\n",
      "    https://scikit-learn.org/stable/modules/preprocessing.html\n",
      "Please also refer to the documentation for alternative solver options:\n",
      "    https://scikit-learn.org/stable/modules/linear_model.html#logistic-regression\n",
      "  n_iter_i = _check_optimize_result(\n"
     ]
    },
    {
     "name": "stdout",
     "output_type": "stream",
     "text": [
      "              precision    recall  f1-score   support\n",
      "\n",
      "         0.0       0.37      0.45      0.41     13155\n",
      "         1.0       0.23      0.15      0.18     13244\n",
      "         2.0       0.22      0.11      0.15     13261\n",
      "         3.0       0.21      0.03      0.05     13418\n",
      "         4.0       0.26      0.65      0.37     13003\n",
      "\n",
      "    accuracy                           0.28     66081\n",
      "   macro avg       0.26      0.28      0.23     66081\n",
      "weighted avg       0.26      0.28      0.23     66081\n",
      "\n",
      "NDCG метрика:\n",
      "0.6289632730211002\n"
     ]
    }
   ],
   "source": [
    "modeling(LogisticRegression(random_state=42), X_train, y_train, X_test)"
   ]
  },
  {
   "cell_type": "markdown",
   "id": "7bd9fcac",
   "metadata": {},
   "source": [
    "#### Решающее дерево"
   ]
  },
  {
   "cell_type": "code",
   "execution_count": 8,
   "id": "c704f9f3",
   "metadata": {},
   "outputs": [],
   "source": [
    "tree = DecisionTreeClassifier(random_state=42)"
   ]
  },
  {
   "cell_type": "code",
   "execution_count": 9,
   "id": "f9553200",
   "metadata": {},
   "outputs": [
    {
     "name": "stdout",
     "output_type": "stream",
     "text": [
      "              precision    recall  f1-score   support\n",
      "\n",
      "         0.0       0.27      0.27      0.27     13155\n",
      "         1.0       0.21      0.21      0.21     13244\n",
      "         2.0       0.20      0.20      0.20     13261\n",
      "         3.0       0.21      0.21      0.21     13418\n",
      "         4.0       0.23      0.24      0.24     13003\n",
      "\n",
      "    accuracy                           0.23     66081\n",
      "   macro avg       0.23      0.23      0.23     66081\n",
      "weighted avg       0.23      0.23      0.23     66081\n",
      "\n",
      "NDCG метрика:\n",
      "0.6026286298950798\n"
     ]
    }
   ],
   "source": [
    "modeling(tree, X_train, y_train, X_test)"
   ]
  },
  {
   "cell_type": "markdown",
   "id": "e552e184",
   "metadata": {},
   "source": [
    "#### Бустинг"
   ]
  },
  {
   "cell_type": "code",
   "execution_count": 10,
   "id": "856ec97f",
   "metadata": {},
   "outputs": [],
   "source": [
    "boost = GradientBoostingClassifier()"
   ]
  },
  {
   "cell_type": "code",
   "execution_count": 11,
   "id": "8883531a",
   "metadata": {},
   "outputs": [
    {
     "name": "stdout",
     "output_type": "stream",
     "text": [
      "              precision    recall  f1-score   support\n",
      "\n",
      "         0.0       0.34      0.55      0.42     13155\n",
      "         1.0       0.23      0.16      0.19     13244\n",
      "         2.0       0.22      0.13      0.16     13261\n",
      "         3.0       0.23      0.12      0.16     13418\n",
      "         4.0       0.29      0.46      0.35     13003\n",
      "\n",
      "    accuracy                           0.28     66081\n",
      "   macro avg       0.26      0.28      0.26     66081\n",
      "weighted avg       0.26      0.28      0.26     66081\n",
      "\n",
      "NDCG метрика:\n",
      "0.63137708793775\n"
     ]
    }
   ],
   "source": [
    "modeling(boost, X_train, y_train, X_test)"
   ]
  },
  {
   "cell_type": "markdown",
   "id": "6a13e585",
   "metadata": {},
   "source": [
    "#### Дерево решений"
   ]
  },
  {
   "cell_type": "code",
   "execution_count": 12,
   "id": "e4994cfe",
   "metadata": {},
   "outputs": [
    {
     "name": "stdout",
     "output_type": "stream",
     "text": [
      "              precision    recall  f1-score   support\n",
      "\n",
      "         0.0       0.31      0.37      0.34     13155\n",
      "         1.0       0.21      0.21      0.21     13244\n",
      "         2.0       0.21      0.20      0.20     13261\n",
      "         3.0       0.22      0.20      0.21     13418\n",
      "         4.0       0.25      0.24      0.25     13003\n",
      "\n",
      "    accuracy                           0.24     66081\n",
      "   macro avg       0.24      0.24      0.24     66081\n",
      "weighted avg       0.24      0.24      0.24     66081\n",
      "\n",
      "NDCG метрика:\n",
      "0.6117250642433546\n"
     ]
    }
   ],
   "source": [
    "forest = RandomForestClassifier(n_estimators=30)\n",
    "\n",
    "modeling(forest, X_train, y_train, X_test)"
   ]
  },
  {
   "cell_type": "markdown",
   "id": "e1c13a08",
   "metadata": {},
   "source": [
    "#### CatBoost"
   ]
  },
  {
   "cell_type": "code",
   "execution_count": 13,
   "id": "e5019bfa",
   "metadata": {},
   "outputs": [],
   "source": [
    "catboosting = CatBoostClassifier(metric_period=300)"
   ]
  },
  {
   "cell_type": "code",
   "execution_count": 14,
   "id": "5ae4e71c",
   "metadata": {},
   "outputs": [
    {
     "name": "stdout",
     "output_type": "stream",
     "text": [
      "Learning rate set to 0.107045\n",
      "0:\tlearn: 1.5982775\ttotal: 147ms\tremaining: 2m 27s\n",
      "300:\tlearn: 1.5422045\ttotal: 11.6s\tremaining: 27s\n",
      "600:\tlearn: 1.5355908\ttotal: 23.4s\tremaining: 15.5s\n",
      "900:\tlearn: 1.5296791\ttotal: 36.1s\tremaining: 3.96s\n",
      "999:\tlearn: 1.5277700\ttotal: 40.1s\tremaining: 0us\n",
      "              precision    recall  f1-score   support\n",
      "\n",
      "         0.0       0.34      0.54      0.42     13155\n",
      "         1.0       0.22      0.15      0.18     13244\n",
      "         2.0       0.22      0.14      0.17     13261\n",
      "         3.0       0.23      0.15      0.18     13418\n",
      "         4.0       0.29      0.42      0.34     13003\n",
      "\n",
      "    accuracy                           0.28     66081\n",
      "   macro avg       0.26      0.28      0.26     66081\n",
      "weighted avg       0.26      0.28      0.26     66081\n",
      "\n",
      "NDCG метрика:\n",
      "0.630399143630683\n"
     ]
    }
   ],
   "source": [
    "modeling(catboosting, X_train, y_train, X_test)"
   ]
  },
  {
   "cell_type": "markdown",
   "id": "db2f8e37",
   "metadata": {},
   "source": [
    "Лучше всего NDCG метрика оказалась у градиентного бустинга. Будем использовать его. Он позволяет снизить ошибку модели на каждой итерации, комбинируя решения базовых моделей (обычно деревьев решений). "
   ]
  },
  {
   "cell_type": "code",
   "execution_count": 17,
   "id": "301ef009",
   "metadata": {},
   "outputs": [],
   "source": [
    "test=test.drop(columns = ['score'], axis = 1)"
   ]
  },
  {
   "cell_type": "code",
   "execution_count": 18,
   "id": "4aeba653",
   "metadata": {},
   "outputs": [],
   "source": [
    "y_pred = boost.predict(test)"
   ]
  },
  {
   "cell_type": "code",
   "execution_count": 24,
   "id": "8359ba0f",
   "metadata": {},
   "outputs": [
    {
     "data": {
      "text/html": [
       "<div>\n",
       "<style scoped>\n",
       "    .dataframe tbody tr th:only-of-type {\n",
       "        vertical-align: middle;\n",
       "    }\n",
       "\n",
       "    .dataframe tbody tr th {\n",
       "        vertical-align: top;\n",
       "    }\n",
       "\n",
       "    .dataframe thead th {\n",
       "        text-align: right;\n",
       "    }\n",
       "</style>\n",
       "<table border=\"1\" class=\"dataframe\">\n",
       "  <thead>\n",
       "    <tr style=\"text-align: right;\">\n",
       "      <th></th>\n",
       "      <th>common_words</th>\n",
       "      <th>len_of_post</th>\n",
       "      <th>len_of_comm</th>\n",
       "      <th>len_of_text</th>\n",
       "      <th>ratio_post</th>\n",
       "      <th>post_text_svd</th>\n",
       "      <th>com_text_svd</th>\n",
       "      <th>score</th>\n",
       "    </tr>\n",
       "  </thead>\n",
       "  <tbody>\n",
       "    <tr>\n",
       "      <th>0</th>\n",
       "      <td>1</td>\n",
       "      <td>8</td>\n",
       "      <td>16</td>\n",
       "      <td>24</td>\n",
       "      <td>0.125</td>\n",
       "      <td>0.003099</td>\n",
       "      <td>0.034419</td>\n",
       "      <td>3.0</td>\n",
       "    </tr>\n",
       "    <tr>\n",
       "      <th>1</th>\n",
       "      <td>0</td>\n",
       "      <td>8</td>\n",
       "      <td>10</td>\n",
       "      <td>18</td>\n",
       "      <td>0.000</td>\n",
       "      <td>0.003099</td>\n",
       "      <td>0.018142</td>\n",
       "      <td>4.0</td>\n",
       "    </tr>\n",
       "    <tr>\n",
       "      <th>2</th>\n",
       "      <td>1</td>\n",
       "      <td>8</td>\n",
       "      <td>20</td>\n",
       "      <td>28</td>\n",
       "      <td>0.125</td>\n",
       "      <td>0.003099</td>\n",
       "      <td>0.029268</td>\n",
       "      <td>2.0</td>\n",
       "    </tr>\n",
       "    <tr>\n",
       "      <th>3</th>\n",
       "      <td>2</td>\n",
       "      <td>8</td>\n",
       "      <td>25</td>\n",
       "      <td>33</td>\n",
       "      <td>0.250</td>\n",
       "      <td>0.003099</td>\n",
       "      <td>0.054525</td>\n",
       "      <td>2.0</td>\n",
       "    </tr>\n",
       "    <tr>\n",
       "      <th>4</th>\n",
       "      <td>0</td>\n",
       "      <td>8</td>\n",
       "      <td>4</td>\n",
       "      <td>12</td>\n",
       "      <td>0.000</td>\n",
       "      <td>0.003099</td>\n",
       "      <td>0.013465</td>\n",
       "      <td>4.0</td>\n",
       "    </tr>\n",
       "  </tbody>\n",
       "</table>\n",
       "</div>"
      ],
      "text/plain": [
       "   common_words  len_of_post  len_of_comm  len_of_text  ratio_post  \\\n",
       "0             1            8           16           24       0.125   \n",
       "1             0            8           10           18       0.000   \n",
       "2             1            8           20           28       0.125   \n",
       "3             2            8           25           33       0.250   \n",
       "4             0            8            4           12       0.000   \n",
       "\n",
       "   post_text_svd  com_text_svd  score  \n",
       "0       0.003099      0.034419    3.0  \n",
       "1       0.003099      0.018142    4.0  \n",
       "2       0.003099      0.029268    2.0  \n",
       "3       0.003099      0.054525    2.0  \n",
       "4       0.003099      0.013465    4.0  "
      ]
     },
     "execution_count": 24,
     "metadata": {},
     "output_type": "execute_result"
    }
   ],
   "source": [
    "test['score']=y_pred\n",
    "test.head()"
   ]
  },
  {
   "cell_type": "code",
   "execution_count": 22,
   "id": "64a47d2e",
   "metadata": {},
   "outputs": [],
   "source": [
    "#test.to_csv(r'/Users/anastasiamyskina/Downloads/IT/test_predict.csv', index= False )"
   ]
  },
  {
   "cell_type": "code",
   "execution_count": null,
   "id": "1dc04432",
   "metadata": {},
   "outputs": [],
   "source": []
  }
 ],
 "metadata": {
  "kernelspec": {
   "display_name": "Python 3 (ipykernel)",
   "language": "python",
   "name": "python3"
  },
  "language_info": {
   "codemirror_mode": {
    "name": "ipython",
    "version": 3
   },
   "file_extension": ".py",
   "mimetype": "text/x-python",
   "name": "python",
   "nbconvert_exporter": "python",
   "pygments_lexer": "ipython3",
   "version": "3.9.12"
  }
 },
 "nbformat": 4,
 "nbformat_minor": 5
}
